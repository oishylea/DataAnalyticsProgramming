{
 "cells": [
  {
   "cell_type": "markdown",
   "id": "2885dc80-8970-466f-8a67-8496006a57fe",
   "metadata": {},
   "source": [
    "# CHAPTER 2\n",
    "# Built-in Data Structures and Functions & Files\n",
    "\n",
    "## 2.4 Python Exceptions\n",
    "\n",
    "Errors are something that encountered by programmers everyday. Error can be due to\n",
    "1. the program fed with bad data\n",
    "2. Error in the programming (code error)"
   ]
  },
  {
   "cell_type": "code",
   "execution_count": 14,
   "id": "b9c0f2b3-b456-46c6-8ca9-910bee958931",
   "metadata": {},
   "outputs": [
    {
     "name": "stdin",
     "output_type": "stream",
     "text": [
      "Please key in a value:  23\n"
     ]
    },
    {
     "name": "stdout",
     "output_type": "stream",
     "text": [
      "4.3478260869565215\n"
     ]
    }
   ],
   "source": [
    "\n",
    "    data = int(input(\"Please key in a value: \"))\n",
    "    result = 100 / data\n",
    "    print(result)\n",
    "# except ZeroDivisionError:\n",
    "#     print(\"Cannot divide by zero.\")\n",
    "# except ValueError:\n",
    "#     print(\"Please enter a valid integer.\")"
   ]
  },
  {
   "cell_type": "markdown",
   "id": "a04c2904-3447-4c85-a622-9ddb4321096a",
   "metadata": {},
   "source": [
    "Try the above code with a proper value, then try with a string (anything other than numbers), and try with value 0, observe the output."
   ]
  },
  {
   "cell_type": "markdown",
   "id": "2d3f2603-51be-4862-b796-f65f21a514e9",
   "metadata": {},
   "source": [
    "You should see there is a error message and focus on the last line of the message (which is the most important info), it states <b>ValueError</b> this is a specific error or <b>Exception</b> raised in Python due to the error when it try to cast integer type on a string variable.\n",
    "<p>To avoid this, or rather say to \"elegantly\" handle this error in Python, we can use the <code>try</code> and <code>except</code> keyword in Python</p><br>\n",
    "The syntax is as follows:<br>\n",
    "\n",
    "```python\n",
    "try:\n",
    "    #statement to be executed and being \"monitored\"\n",
    "except:\n",
    "    #statement to be executed once the code above cause error! \n",
    "```\n",
    "\n"
   ]
  },
  {
   "cell_type": "code",
   "execution_count": 9,
   "id": "e5f54a09-a3be-4512-a708-0a19eff8ffc0",
   "metadata": {},
   "outputs": [
    {
     "name": "stdin",
     "output_type": "stream",
     "text": [
      "Please key in a value:  2\n"
     ]
    },
    {
     "name": "stdout",
     "output_type": "stream",
     "text": [
      "50.0\n"
     ]
    }
   ],
   "source": [
    "try:\n",
    "    data = int(input(\"Please key in a value: \"))\n",
    "    result = 100 / data\n",
    "    print(result)\n",
    "except ZeroDivisionError:\n",
    "    print(\"Cannot divide by zero.\")\n",
    "except ValueError:\n",
    "    print(\"Please enter a valid integer.\")"
   ]
  },
  {
   "cell_type": "markdown",
   "id": "59ed50a5-f967-497c-a56a-c06d59c1c208",
   "metadata": {},
   "source": [
    "### Dealing with more than one exceptions and with default exception\n",
    "We can also try to deal with multiple exceptions in one <code>try</code><br>\n",
    "\n",
    "The syntax is as follows:\n",
    "\n",
    "```python\n",
    "try:\n",
    "    # statement to be executed and being \"monitored\"\n",
    "except <ERROR1>:\n",
    "    # statment to be executed if the ERROR1 exception raised\n",
    "except <ERROR2>:\n",
    "    # statement to be executed if the ERROR2 exception raised\n",
    "except:\n",
    "    # statement to be execute for any exception raised other than ERROR1 or ERROR2\n",
    "```\n",
    "\n",
    "The exception will be checked sequentially, so the the default exception should be put at the last, as it covers all other exceptions!\n",
    "\n",
    "\n",
    "#### Some useful Exceptions:\n",
    "1. <b>ZeroDivisionError</b>: Error raised when division by zero\n",
    "2. <b>ValueError</b>: Error raised when dealing with inappropriate values, i.e. <code>int</code> variable receive <code>string<code> input\n",
    "3. <b>TypeError</b>: Error shows up when try to apply a data whose type cannot be accepted, i.e. accessing an integer x with x[0.5]\n",
    "\n",
    "further referece: https://www.programiz.com/python-programming/exceptions"
   ]
  },
  {
   "cell_type": "code",
   "execution_count": 1,
   "id": "b55bbdac-1da8-4090-acff-959a91c0a625",
   "metadata": {},
   "outputs": [
    {
     "name": "stdin",
     "output_type": "stream",
     "text": [
      "Please key in a value: 2222\n"
     ]
    },
    {
     "name": "stdout",
     "output_type": "stream",
     "text": [
      "0.045004500450045004\n"
     ]
    }
   ],
   "source": [
    "try:\n",
    "    data = int(input(\"Please key in a value:\"))\n",
    "    print(100/data)\n",
    "except ValueError:\n",
    "    print(\"Sorry you are not inserting a number...\")\n",
    "except ZeroDivisionError:\n",
    "    print(\"Sorry you entered a 0...\")\n",
    "except:\n",
    "    print(\"Sorry, invalid input\")"
   ]
  },
  {
   "cell_type": "code",
   "execution_count": null,
   "id": "618ad2c7-de2c-458f-aa13-11ab5a7f3e92",
   "metadata": {},
   "outputs": [],
   "source": []
  }
 ],
 "metadata": {
  "kernelspec": {
   "display_name": "Python 3 (ipykernel)",
   "language": "python",
   "name": "python3"
  },
  "language_info": {
   "codemirror_mode": {
    "name": "ipython",
    "version": 3
   },
   "file_extension": ".py",
   "mimetype": "text/x-python",
   "name": "python",
   "nbconvert_exporter": "python",
   "pygments_lexer": "ipython3",
   "version": "3.12.5"
  }
 },
 "nbformat": 4,
 "nbformat_minor": 5
}
