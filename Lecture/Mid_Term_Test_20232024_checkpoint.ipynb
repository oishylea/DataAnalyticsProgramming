{
 "cells": [
  {
   "cell_type": "markdown",
   "metadata": {
    "id": "3r0jRn7O2VX7"
   },
   "source": [
    "# MID TERM TEST 2023/2024\n",
    "\n",
    "### Duration: 2 hours\n",
    "\n",
    "Instructions:\n",
    "1. You can only refer to lecture notes.\n",
    "2. Save this file as your _MatricNo-MTT_.\n",
    "3. File should be saved as _.ipynb_ file.\n",
    "4. Submission will be done after the test ended. Please upload the file in the designated folder in the e-learning. The access to the e-learning will only be closed 10 minutes after the test ended."
   ]
  },
  {
   "cell_type": "markdown",
   "metadata": {
    "id": "4bJwpH4U2VX8",
    "jupyter": {
     "source_hidden": true
    }
   },
   "source": [
    "_Please run below code to import Numpy and pandas_"
   ]
  },
  {
   "cell_type": "code",
   "execution_count": null,
   "metadata": {
    "id": "sD_ipP9y2VX9"
   },
   "outputs": [],
   "source": [
    "import numpy as np\n",
    "import pandas as pd"
   ]
  },
  {
   "cell_type": "markdown",
   "metadata": {
    "id": "hlo1f14_2VX-"
   },
   "source": [
    "## QUESTION 1 [15 MARKS]\n",
    "\n",
    "##### Use only Python basics for this question (NumPy or pandas are not allowed).\n",
    "\n",
    "Given the quotes by Erin Shellman:\n",
    "\n",
    "Erin Shellman has quoted two statements which are 'The most interesting types of data are those collected for one purpose and used for another' and 'As a data scientist, even if you do not have the domain expertise, you can learn it and can work on any problem that can be quantitatively described'\n",
    "\n",
    "\n",
    "### Question 1(a)(i) - 3 marks\n",
    "\n",
    "Do the string slicing to produce the output of:\n",
    "\n",
    "'As a data scientist, even if you do not have the domain expertise, you can learn it and can work on any problem that can be quantitatively described' quote by Erin Shellman"
   ]
  },
  {
   "cell_type": "code",
   "execution_count": null,
   "metadata": {
    "id": "jA2bGLne2VX-",
    "outputId": "2570d6f8-0928-42cd-8ed4-44ff56c9d859"
   },
   "outputs": [
    {
     "data": {
      "text/plain": [
       "\"'As a data scientist, even if you do not have the domain expertise, you can learn it and can work on any problem that can be quantitatively described' quote by Erin Shellman\""
      ]
     },
     "execution_count": 1,
     "metadata": {},
     "output_type": "execute_result"
    }
   ],
   "source": [
    "quotes = \"Erin Shellman has quoted two statements which are \\\n",
    "'The most interesting types of data are those collected for one purpose and used for another' and \\\n",
    "'As a data scientist, even if you do not have the domain expertise, \\\n",
    "you can learn it and can work on any problem that can be quantitatively described'\"\n",
    "\n",
    "# WRITE YOUR CODE HERE\n",
    "first_quote_index = quotes.find(\"\\'\")\n",
    "second_quote_index = quotes.find(\"\\'\", first_quote_index + 1)\n",
    "third_quote_index = quotes.find(\"\\'\", second_quote_index + 1)\n",
    "\n",
    "str_slice = quotes[third_quote_index:] + \" quote by Erin Shellman\"\n",
    "str_slice"
   ]
  },
  {
   "cell_type": "markdown",
   "metadata": {
    "id": "aBY8mXHg2VX_"
   },
   "source": [
    "### Question 1(a)(ii) - 3 marks\n",
    "\n",
    "Perform the ``split`` method to split both quotes.\n",
    "Then print both of them as below:\n",
    "\n",
    "    Two quotes from Erin Shellman:\n",
    "\n",
    "    1st Quote: The most interesting types of data are those collected for one purpose and used for another\n",
    "\n",
    "    2nd Quote: As a data scientist, even if you do not have the domain expertise, you can learn it and can work on any problem that can be quantitatively described"
   ]
  },
  {
   "cell_type": "code",
   "execution_count": null,
   "metadata": {
    "id": "VMbgXXP32VYA",
    "outputId": "a35d2a2d-aac6-4fcf-9376-48e2bb3b8e60"
   },
   "outputs": [
    {
     "name": "stdout",
     "output_type": "stream",
     "text": [
      "Two quotes from Erin Shellman:\n",
      "\n",
      "1st Quote: The most interesting types of data are those collected for one purpose and used for another\n",
      "\n",
      "2nd Quote: As a data scientist, even if you do not have the domain expertise, you can learn it and can work on any problem that can be quantitatively described\n"
     ]
    }
   ],
   "source": [
    "# WRITE YOUR CODE HERE\n",
    "first_quote = quotes.split(\"\\'\")[1]\n",
    "second_quote = quotes.split(\"\\'\")[3]\n",
    "\n",
    "print(\"Two quotes from Erin Shellman:\\n\")\n",
    "print(\"1st Quote: \" + first_quote + \"\\n\")\n",
    "print(\"2nd Quote: \" + second_quote)"
   ]
  },
  {
   "cell_type": "markdown",
   "metadata": {
    "id": "MMb88arx2VYA"
   },
   "source": [
    "### Question 1(b) - 3 marks\n",
    "\n",
    "Write a program to find the numbers between 1500 and 4500 (both included) which are divisible by 9 and multiple of 3. Those numbers need to be stored in an array. Display all the size of the array."
   ]
  },
  {
   "cell_type": "code",
   "execution_count": null,
   "metadata": {
    "id": "nHTWmAFy2VYA",
    "outputId": "9cdd8c20-7e3f-48a9-de94-0a0cdb05b299"
   },
   "outputs": [
    {
     "data": {
      "text/plain": [
       "array([1503, 1512, 1521, 1530, 1539, 1548, 1557, 1566, 1575, 1584, 1593,\n",
       "       1602, 1611, 1620, 1629, 1638, 1647, 1656, 1665, 1674, 1683, 1692,\n",
       "       1701, 1710, 1719, 1728, 1737, 1746, 1755, 1764, 1773, 1782, 1791,\n",
       "       1800, 1809, 1818, 1827, 1836, 1845, 1854, 1863, 1872, 1881, 1890,\n",
       "       1899, 1908, 1917, 1926, 1935, 1944, 1953, 1962, 1971, 1980, 1989,\n",
       "       1998, 2007, 2016, 2025, 2034, 2043, 2052, 2061, 2070, 2079, 2088,\n",
       "       2097, 2106, 2115, 2124, 2133, 2142, 2151, 2160, 2169, 2178, 2187,\n",
       "       2196, 2205, 2214, 2223, 2232, 2241, 2250, 2259, 2268, 2277, 2286,\n",
       "       2295, 2304, 2313, 2322, 2331, 2340, 2349, 2358, 2367, 2376, 2385,\n",
       "       2394, 2403, 2412, 2421, 2430, 2439, 2448, 2457, 2466, 2475, 2484,\n",
       "       2493, 2502, 2511, 2520, 2529, 2538, 2547, 2556, 2565, 2574, 2583,\n",
       "       2592, 2601, 2610, 2619, 2628, 2637, 2646, 2655, 2664, 2673, 2682,\n",
       "       2691, 2700, 2709, 2718, 2727, 2736, 2745, 2754, 2763, 2772, 2781,\n",
       "       2790, 2799, 2808, 2817, 2826, 2835, 2844, 2853, 2862, 2871, 2880,\n",
       "       2889, 2898, 2907, 2916, 2925, 2934, 2943, 2952, 2961, 2970, 2979,\n",
       "       2988, 2997, 3006, 3015, 3024, 3033, 3042, 3051, 3060, 3069, 3078,\n",
       "       3087, 3096, 3105, 3114, 3123, 3132, 3141, 3150, 3159, 3168, 3177,\n",
       "       3186, 3195, 3204, 3213, 3222, 3231, 3240, 3249, 3258, 3267, 3276,\n",
       "       3285, 3294, 3303, 3312, 3321, 3330, 3339, 3348, 3357, 3366, 3375,\n",
       "       3384, 3393, 3402, 3411, 3420, 3429, 3438, 3447, 3456, 3465, 3474,\n",
       "       3483, 3492, 3501, 3510, 3519, 3528, 3537, 3546, 3555, 3564, 3573,\n",
       "       3582, 3591, 3600, 3609, 3618, 3627, 3636, 3645, 3654, 3663, 3672,\n",
       "       3681, 3690, 3699, 3708, 3717, 3726, 3735, 3744, 3753, 3762, 3771,\n",
       "       3780, 3789, 3798, 3807, 3816, 3825, 3834, 3843, 3852, 3861, 3870,\n",
       "       3879, 3888, 3897, 3906, 3915, 3924, 3933, 3942, 3951, 3960, 3969,\n",
       "       3978, 3987, 3996, 4005, 4014, 4023, 4032, 4041, 4050, 4059, 4068,\n",
       "       4077, 4086, 4095, 4104, 4113, 4122, 4131, 4140, 4149, 4158, 4167,\n",
       "       4176, 4185, 4194, 4203, 4212, 4221, 4230, 4239, 4248, 4257, 4266,\n",
       "       4275, 4284, 4293, 4302, 4311, 4320, 4329, 4338, 4347, 4356, 4365,\n",
       "       4374, 4383, 4392, 4401, 4410, 4419, 4428, 4437, 4446, 4455, 4464,\n",
       "       4473, 4482, 4491, 4500])"
      ]
     },
     "execution_count": 11,
     "metadata": {},
     "output_type": "execute_result"
    }
   ],
   "source": [
    "# WRITE YOUR CODE HERE\n",
    "numList = [x for x in range(1500, 4501) if (x%9 == 0 and x%3 == 0)]\n",
    "arr = np.array(numList)\n",
    "arr"
   ]
  },
  {
   "cell_type": "markdown",
   "metadata": {
    "id": "r9uv0i_W2VYB"
   },
   "source": [
    "### Question 1(c) - 6 marks\n",
    "\n",
    "Write a function named `Prime` that receive a list of numbers and to return a list of only the prime numbers.<br> A prime number is a whole number greater than 1 whose only can be divided by only 1 and the number itself.<br> Test your function using the test codes given."
   ]
  },
  {
   "cell_type": "code",
   "execution_count": null,
   "metadata": {
    "id": "WHZCIJ2D2VYB"
   },
   "outputs": [],
   "source": [
    "# WRITE YOUR CODE HERE\n",
    "def Prime(num_list):\n",
    "    prime_list = []\n",
    "    for x in num_list:\n",
    "        if x > 1:\n",
    "            prime_list.append(x)\n",
    "            for i in range(2, x):\n",
    "                if x%i == 0:\n",
    "                    if x in prime_list:\n",
    "                        prime_list.remove(x)\n",
    "    return prime_list"
   ]
  },
  {
   "cell_type": "code",
   "execution_count": null,
   "metadata": {
    "id": "p9yUNX0o2VYB",
    "outputId": "79b1618c-242b-43ce-bf93-56112abf0f18"
   },
   "outputs": [
    {
     "name": "stdout",
     "output_type": "stream",
     "text": [
      "[2, 3, 5, 7]\n"
     ]
    }
   ],
   "source": [
    "# Test Code 1\n",
    "\n",
    "number = [2,3,4,5,6,7]\n",
    "\n",
    "result = Prime(number)\n",
    "print(result)"
   ]
  },
  {
   "cell_type": "code",
   "execution_count": null,
   "metadata": {
    "id": "IRmrGNyl2VYC",
    "outputId": "a46f47b9-90d4-4541-ac33-af7f52cc4ae6"
   },
   "outputs": [
    {
     "name": "stdout",
     "output_type": "stream",
     "text": [
      "[11, 13, 17, 19, 23, 29]\n"
     ]
    }
   ],
   "source": [
    "# Test Code 2\n",
    "\n",
    "number = list(range(10, 30))\n",
    "\n",
    "result = Prime(number)\n",
    "print(result)"
   ]
  },
  {
   "cell_type": "code",
   "execution_count": null,
   "metadata": {
    "id": "UQdI0KTE2VYC",
    "outputId": "d1271e78-6b38-46ea-8099-7d17cd3486a6"
   },
   "outputs": [
    {
     "name": "stdout",
     "output_type": "stream",
     "text": [
      "[2, 3, 5, 7]\n"
     ]
    }
   ],
   "source": [
    "# Test Code 3\n",
    "\n",
    "number = list(range(-3, 11))\n",
    "\n",
    "result = Prime(number)\n",
    "print(result)"
   ]
  },
  {
   "cell_type": "markdown",
   "metadata": {
    "id": "9jBSDZG02VYC"
   },
   "source": [
    "## QUESTION 2 [15 MARKS]\n",
    "\n",
    "For this question, you are using Blood Transfusion Dataset (Blood Transfusion.csv). Here are the description of each column:\n",
    "\n",
    "    Column 1: Number of months since the particular donor's most recent donation\n",
    "    Column 2: Total number of donations that the donor has made\n",
    "    Column 3: Total amound of blood that the donor has donated (cubic centimeters)\n",
    "    Column 4: Number of months since the donor's first donation\n",
    "    Column 5: This is a binary variable which represents whether the donor donated blood in March 2007\n"
   ]
  },
  {
   "cell_type": "markdown",
   "metadata": {
    "id": "cc8tj_Yo2VYC"
   },
   "source": [
    "### Question 2(a) - 2 marks\n",
    "\n",
    "Load the dataset into variable name ``transfuse``. Display the first 7 rows."
   ]
  },
  {
   "cell_type": "code",
   "execution_count": null,
   "metadata": {
    "id": "oJ_IJJiJ2VYC",
    "outputId": "35404664-d5e5-4ba8-df1f-12600d485ccc"
   },
   "outputs": [
    {
     "data": {
      "text/html": [
       "<div>\n",
       "<style scoped>\n",
       "    .dataframe tbody tr th:only-of-type {\n",
       "        vertical-align: middle;\n",
       "    }\n",
       "\n",
       "    .dataframe tbody tr th {\n",
       "        vertical-align: top;\n",
       "    }\n",
       "\n",
       "    .dataframe thead th {\n",
       "        text-align: right;\n",
       "    }\n",
       "</style>\n",
       "<table border=\"1\" class=\"dataframe\">\n",
       "  <thead>\n",
       "    <tr style=\"text-align: right;\">\n",
       "      <th></th>\n",
       "      <th>Recency (months)</th>\n",
       "      <th>Frequency (times)</th>\n",
       "      <th>Monetary (c.c. blood)</th>\n",
       "      <th>Time (months)</th>\n",
       "      <th>whether he/she donated blood in March 2007</th>\n",
       "    </tr>\n",
       "  </thead>\n",
       "  <tbody>\n",
       "    <tr>\n",
       "      <th>0</th>\n",
       "      <td>2</td>\n",
       "      <td>50</td>\n",
       "      <td>12500</td>\n",
       "      <td>98</td>\n",
       "      <td>1</td>\n",
       "    </tr>\n",
       "    <tr>\n",
       "      <th>1</th>\n",
       "      <td>0</td>\n",
       "      <td>13</td>\n",
       "      <td>3250</td>\n",
       "      <td>28</td>\n",
       "      <td>1</td>\n",
       "    </tr>\n",
       "    <tr>\n",
       "      <th>2</th>\n",
       "      <td>1</td>\n",
       "      <td>16</td>\n",
       "      <td>4000</td>\n",
       "      <td>35</td>\n",
       "      <td>1</td>\n",
       "    </tr>\n",
       "    <tr>\n",
       "      <th>3</th>\n",
       "      <td>2</td>\n",
       "      <td>20</td>\n",
       "      <td>5000</td>\n",
       "      <td>45</td>\n",
       "      <td>1</td>\n",
       "    </tr>\n",
       "    <tr>\n",
       "      <th>4</th>\n",
       "      <td>1</td>\n",
       "      <td>24</td>\n",
       "      <td>6000</td>\n",
       "      <td>77</td>\n",
       "      <td>0</td>\n",
       "    </tr>\n",
       "    <tr>\n",
       "      <th>5</th>\n",
       "      <td>4</td>\n",
       "      <td>4</td>\n",
       "      <td>1000</td>\n",
       "      <td>4</td>\n",
       "      <td>0</td>\n",
       "    </tr>\n",
       "    <tr>\n",
       "      <th>6</th>\n",
       "      <td>2</td>\n",
       "      <td>7</td>\n",
       "      <td>1750</td>\n",
       "      <td>14</td>\n",
       "      <td>1</td>\n",
       "    </tr>\n",
       "  </tbody>\n",
       "</table>\n",
       "</div>"
      ],
      "text/plain": [
       "   Recency (months)  Frequency (times)  Monetary (c.c. blood)  Time (months)   \n",
       "0                 2                 50                  12500             98  \\\n",
       "1                 0                 13                   3250             28   \n",
       "2                 1                 16                   4000             35   \n",
       "3                 2                 20                   5000             45   \n",
       "4                 1                 24                   6000             77   \n",
       "5                 4                  4                   1000              4   \n",
       "6                 2                  7                   1750             14   \n",
       "\n",
       "   whether he/she donated blood in March 2007  \n",
       "0                                           1  \n",
       "1                                           1  \n",
       "2                                           1  \n",
       "3                                           1  \n",
       "4                                           0  \n",
       "5                                           0  \n",
       "6                                           1  "
      ]
     },
     "execution_count": 42,
     "metadata": {},
     "output_type": "execute_result"
    }
   ],
   "source": [
    "# WRITE YOUR CODE HERE\n",
    "transfuse = pd.read_csv(\"Blood Transfusion.csv\")\n",
    "transfuse.head(7)"
   ]
  },
  {
   "cell_type": "markdown",
   "metadata": {
    "id": "Gjt9vpjG2VYD"
   },
   "source": [
    "### Question 2(b) - 1 mark\n",
    "\n",
    "What is the size of the dataset?"
   ]
  },
  {
   "cell_type": "code",
   "execution_count": null,
   "metadata": {
    "id": "Fyr746rg2VYD",
    "outputId": "7c0772c4-e3e5-4aae-fd80-2619b6908ab9"
   },
   "outputs": [
    {
     "data": {
      "text/plain": [
       "748"
      ]
     },
     "execution_count": 107,
     "metadata": {},
     "output_type": "execute_result"
    }
   ],
   "source": [
    "# WRITE YOUR CODE HERE\n",
    "transfuse.shape[0]\n"
   ]
  },
  {
   "cell_type": "markdown",
   "metadata": {
    "id": "T91VieC72VYD"
   },
   "source": [
    "### Question 2(c) - 2 marks\n",
    "\n",
    "How many donors have donated more than 10,000 cubic centimeters blood?"
   ]
  },
  {
   "cell_type": "code",
   "execution_count": null,
   "metadata": {
    "id": "P-VLUKzj2VYD",
    "outputId": "e59eb1ca-6dd3-4746-cc93-eb63ccca2e1f"
   },
   "outputs": [
    {
     "data": {
      "text/plain": [
       "5"
      ]
     },
     "execution_count": 44,
     "metadata": {},
     "output_type": "execute_result"
    }
   ],
   "source": [
    "# WRITE YOUR CODE HERE\n",
    "len(transfuse[transfuse['Monetary (c.c. blood)'] > 10000])\n"
   ]
  },
  {
   "cell_type": "markdown",
   "metadata": {
    "id": "3rOkEySL2VYD"
   },
   "source": [
    "### Question 2(d) - 2 marks\n",
    "\n",
    "What is the highest frequency of donation in the dataset and what is the total monetory of the donor?"
   ]
  },
  {
   "cell_type": "code",
   "execution_count": null,
   "metadata": {
    "id": "EaW6Ny5w2VYD",
    "outputId": "3b4ae5c8-cb33-4644-c418-8a5a329628d0"
   },
   "outputs": [
    {
     "data": {
      "text/plain": [
       "Frequency (times)           50\n",
       "Monetary (c.c. blood)    12500\n",
       "Name: 0, dtype: int64"
      ]
     },
     "execution_count": 45,
     "metadata": {},
     "output_type": "execute_result"
    }
   ],
   "source": [
    "# WRITE YOUR CODE HERE\n",
    "index = transfuse['Frequency (times)'].idxmax()\n",
    "transfuse[['Frequency (times)', 'Monetary (c.c. blood)']].iloc[index]"
   ]
  },
  {
   "cell_type": "markdown",
   "metadata": {
    "id": "aXDRRRf12VYD"
   },
   "source": [
    "### Question 2(e) - 3 marks\n",
    "\n",
    "How many donors were in March 2007?"
   ]
  },
  {
   "cell_type": "code",
   "execution_count": null,
   "metadata": {
    "id": "O-ei1YHN2VYD",
    "outputId": "23966839-ff29-4108-f7e9-5cd20edf48be"
   },
   "outputs": [
    {
     "data": {
      "text/plain": [
       "178"
      ]
     },
     "execution_count": 46,
     "metadata": {},
     "output_type": "execute_result"
    }
   ],
   "source": [
    "# WRITE YOUR CODE HERE\n",
    "transfuse['whether he/she donated blood in March 2007'].sum()\n"
   ]
  },
  {
   "cell_type": "markdown",
   "metadata": {
    "id": "iR7j0Q2b2VYE"
   },
   "source": [
    "### Question 2(f) - 2 marks\n",
    "\n",
    "What is the average number of months did the donors take to do the next donation?"
   ]
  },
  {
   "cell_type": "code",
   "execution_count": null,
   "metadata": {
    "id": "CX1lCnRS2VYE",
    "outputId": "4fc4f41b-353a-4bdb-e1b1-c06381a3f2ed"
   },
   "outputs": [
    {
     "data": {
      "text/plain": [
       "0       1.920000\n",
       "1       2.153846\n",
       "2       2.125000\n",
       "3       2.150000\n",
       "4       3.166667\n",
       "         ...    \n",
       "743     7.500000\n",
       "744    15.500000\n",
       "745    13.000000\n",
       "746     0.000000\n",
       "747     0.000000\n",
       "Length: 748, dtype: float64"
      ]
     },
     "execution_count": 47,
     "metadata": {},
     "output_type": "execute_result"
    }
   ],
   "source": [
    "# WRITE YOUR CODE HERE\n",
    "diff_no_of_months = transfuse['Time (months)'] - transfuse['Recency (months)']\n",
    "average_no_of_months = diff_no_of_months / transfuse['Frequency (times)']\n",
    "average_no_of_months"
   ]
  },
  {
   "cell_type": "markdown",
   "metadata": {
    "id": "7fV7Rmlz2VYE"
   },
   "source": [
    "### Question 2(g) - 3 marks\n",
    "\n",
    "How many donors have donated only 2 times? What is the longest time (in months) for the donor took before he or she did his or her second donation?"
   ]
  },
  {
   "cell_type": "code",
   "execution_count": null,
   "metadata": {
    "id": "26QRQXzy2VYE",
    "outputId": "159bf6ae-1317-45bc-cc56-1612db7bdcca"
   },
   "outputs": [
    {
     "name": "stdout",
     "output_type": "stream",
     "text": [
      "Number of donors that donated only 2 times: 112\n",
      "The longest time (in months) for the donor took before he or she did his or her second donation: 64 months\n"
     ]
    }
   ],
   "source": [
    "# WRITE YOUR CODE HERE\n",
    "donors_2_times = transfuse[transfuse['Frequency (times)'] == 2]\n",
    "print(\"Number of donors that donated only 2 times: \" + str(len(donors_2_times)))\n",
    "\n",
    "diff_time = donors_2_times['Time (months)'] - donors_2_times['Recency (months)']\n",
    "longest_diff_time = diff_time.max()\n",
    "print(\"The longest time (in months) for the donor took before he or she did his or her second donation: \" + str(longest_diff_time) + \" months\")"
   ]
  },
  {
   "cell_type": "markdown",
   "metadata": {
    "id": "BUJFfZj72VYE"
   },
   "source": [
    "## QUESTION 3 [20 MARKS]\n",
    "\n",
    "Given a list of results of an event for 10 students for 7 courses where **1 indicates the student passes** for the event, while **0 indicates the student is fails**. The data is given in a simple list described as follows:\n",
    "\n",
    "<br>\n",
    "<img src=\"F1.png\", style=\"width:500px\";>\n",
    "\n",
    "The name list and the course list also given. The order of the course and name in the results data are complement to both variables.\n"
   ]
  },
  {
   "cell_type": "code",
   "execution_count": null,
   "metadata": {
    "id": "gFtCJaau2VYE",
    "outputId": "aed3e393-350b-45e8-da57-d7dbe8843b90"
   },
   "outputs": [
    {
     "name": "stdout",
     "output_type": "stream",
     "text": [
      "[1 0 0 1 1 1 0 1 0 1 1 1 1 1 1 1 1 1 1 1 0 1 0 0 1 1 1 1 1 1 1 0 1 1 1 1 0\n",
      " 0 0 1 1 1 1 1 1 1 1 1 1 1 1 0 0 0 0 0 1 1 1 1 1 1 1 0 0 0 1 1 1 1]\n",
      "\n",
      "['S1' 'S2' 'S3' 'S4' 'S5' 'S6' 'S7' 'S8' 'S9' 'S10']\n",
      "\n",
      "['Course1' 'Course2' 'Course3' 'Course4' 'Course5' 'Course6' 'Course7']\n"
     ]
    }
   ],
   "source": [
    "result = np.array([1,0,0,1,1,1,0,1,0,1,1,1,1,1,1,1,1,1,1,1,0,1,0,0,1,1,1,1,1,1,1,0,1,1,1,1,0,0,0,1,1,1,1,1,1,1,1,1,1,1,1,0,0,0,0,0,1,1,1,1,1,1,1,0,0,0,1,1,1,1])\n",
    "name_list = np.array([\"S1\",\"S2\",\"S3\",\"S4\",\"S5\",\"S6\",\"S7\",\"S8\",\"S9\",\"S10\"])\n",
    "course_list = np.array([\"Course1\",\"Course2\",\"Course3\",\"Course4\",\"Course5\",\"Course6\",\"Course7\"])\n",
    "\n",
    "print(result)\n",
    "print()\n",
    "print(name_list)\n",
    "print()\n",
    "print(course_list)"
   ]
  },
  {
   "cell_type": "markdown",
   "metadata": {
    "id": "GDwEIk_E2VYE"
   },
   "source": [
    "### Question 3(a) - 3 marks\n",
    "\n",
    "Based on the given data, create a 2D numpy array (named: ``result_arr``) where:\n",
    "- ROW represents each student\n",
    "- COLUMN represents each day\n",
    "\n",
    "The output should be:\n",
    "\n",
    "<br>\n",
    "<img src=\"F2.png\", style=\"width:150px\";>"
   ]
  },
  {
   "cell_type": "code",
   "execution_count": null,
   "metadata": {
    "id": "RC5D1_c02VYF",
    "outputId": "96bd6e2c-7601-40f3-dda3-03b4101edbf1"
   },
   "outputs": [
    {
     "data": {
      "text/plain": [
       "array([[1, 1, 0, 1, 1, 1, 1],\n",
       "       [0, 1, 1, 0, 1, 0, 1],\n",
       "       [0, 1, 0, 1, 1, 0, 1],\n",
       "       [1, 1, 0, 1, 1, 0, 0],\n",
       "       [1, 1, 1, 1, 1, 0, 0],\n",
       "       [1, 1, 1, 1, 1, 0, 0],\n",
       "       [0, 1, 1, 0, 1, 1, 1],\n",
       "       [1, 1, 1, 0, 1, 1, 1],\n",
       "       [0, 1, 1, 0, 1, 1, 1],\n",
       "       [1, 1, 1, 1, 1, 1, 1]])"
      ]
     },
     "execution_count": 57,
     "metadata": {},
     "output_type": "execute_result"
    }
   ],
   "source": [
    "# WRITE YOUR CODE HERE\n",
    "result_arr = result.reshape((10, 7), order='F')\n",
    "result_arr"
   ]
  },
  {
   "cell_type": "markdown",
   "metadata": {
    "id": "Nf-LV9U32VYF"
   },
   "source": [
    "### Question 3(b) - 5 marks\n",
    "\n",
    "Write a fuction named ``get_result_greater_than`` that returns the list of names, and their corresponding total results based on a filter.<br>\n",
    "The function should accept at least ONE argument, which is the no. of courses. You should return the results filtered based on the no. of courses that he or she passes.\n",
    "\n",
    "Example: Get the names and their total results for those who passed more than 4 courses. The result will give below output:\n",
    "\n",
    "<br>\n",
    "<img src=\"F3.png\", style=\"width:1000px\";>"
   ]
  },
  {
   "cell_type": "code",
   "execution_count": null,
   "metadata": {
    "id": "avNXDI3j2VYF"
   },
   "outputs": [],
   "source": [
    "# WRITE YOUR CODE HERE\n",
    "def get_result_greater_than(no_of_courses):\n",
    "    global result_arr\n",
    "    global name_list\n",
    "\n",
    "    student_pass_course = []\n",
    "    student_name = []\n",
    "    no_course_passes = result_arr.sum(axis=1)\n",
    "    for passes, name in zip(list(no_course_passes), list(name_list)):\n",
    "        if passes > no_of_courses:\n",
    "            student_pass_course.append(passes)\n",
    "            student_name.append(name)\n",
    "    return (np.array(student_pass_course), np.array(student_name))"
   ]
  },
  {
   "cell_type": "code",
   "execution_count": null,
   "metadata": {
    "id": "UJQdZQyM2VYF",
    "outputId": "25ab4731-5543-4fd4-ae0e-a5bea9c2f2ac"
   },
   "outputs": [
    {
     "name": "stdout",
     "output_type": "stream",
     "text": [
      "(array([7]), array(['S10'], dtype='<U3'))\n"
     ]
    }
   ],
   "source": [
    "# Test Code 1\n",
    "\n",
    "print(get_result_greater_than(6))"
   ]
  },
  {
   "cell_type": "code",
   "execution_count": null,
   "metadata": {
    "id": "Z9Fe-qZ52VYF",
    "outputId": "dc79cb5e-385e-41e1-901d-9eaa0f7af01d"
   },
   "outputs": [
    {
     "name": "stdout",
     "output_type": "stream",
     "text": [
      "(array([6, 5, 5, 5, 6, 5, 7]), array(['S1', 'S5', 'S6', 'S7', 'S8', 'S9', 'S10'], dtype='<U3'))\n"
     ]
    }
   ],
   "source": [
    "# Test Code 2\n",
    "\n",
    "print(get_result_greater_than(4))"
   ]
  },
  {
   "cell_type": "markdown",
   "metadata": {
    "id": "tk2mjBqW2VYF"
   },
   "source": [
    "### Question 3(c) - 5 marks\n",
    "\n",
    "Write a fuction named ``get_result_by_name`` that returns the 7-course results for a specific student.<br>\n",
    "The function should accept at least ONE argument, which is the name of the person. You should return the results filtered based on the name. If the name is not exist, 'The name is not found' should be displayed.\n",
    "\n",
    "Example: Get the 7-course results for \"S7\". The result will be [0 1 0 1 1 0 1]"
   ]
  },
  {
   "cell_type": "code",
   "execution_count": null,
   "metadata": {
    "id": "M8Z_p2M_2VYF"
   },
   "outputs": [],
   "source": [
    "# WRITE YOUR CODE HERE\n",
    "def get_result_by_name(student_name):\n",
    "    global result_arr\n",
    "    global name_list\n",
    "\n",
    "    if student_name not in name_list:\n",
    "        return \"The name is not found\"\n",
    "    index = int(student_name[1:]) - 1\n",
    "    return result_arr[index]\n"
   ]
  },
  {
   "cell_type": "code",
   "execution_count": null,
   "metadata": {
    "id": "lTTRqR572VYJ",
    "outputId": "0986289a-38d2-43bf-9005-c2170c407a48"
   },
   "outputs": [
    {
     "name": "stdout",
     "output_type": "stream",
     "text": [
      "[0 1 1 0 1 1 1]\n"
     ]
    }
   ],
   "source": [
    "# Test Code 1\n",
    "\n",
    "print(get_result_by_name(\"S7\"))"
   ]
  },
  {
   "cell_type": "code",
   "execution_count": null,
   "metadata": {
    "id": "HbAMMS3L2VYJ",
    "outputId": "a76e58a5-1fdf-468f-f6d7-7c8c88cdbdd6"
   },
   "outputs": [
    {
     "name": "stdout",
     "output_type": "stream",
     "text": [
      "The name is not found\n"
     ]
    }
   ],
   "source": [
    "# Test Code 2\n",
    "\n",
    "print(get_result_by_name(\"S15\"))"
   ]
  },
  {
   "cell_type": "markdown",
   "metadata": {
    "id": "kVjcaeRB2VYJ"
   },
   "source": [
    "### Question 3(d) - 4 marks\n",
    "\n",
    "Calculate the percentage of pass for each course."
   ]
  },
  {
   "cell_type": "code",
   "execution_count": null,
   "metadata": {
    "id": "dBQGdG2r2VYJ",
    "outputId": "723aa653-e7f8-46b7-bd1f-011dca15c03f"
   },
   "outputs": [
    {
     "data": {
      "text/plain": [
       "array([ 60., 100.,  70.,  60., 100.,  50.,  70.])"
      ]
     },
     "execution_count": 96,
     "metadata": {},
     "output_type": "execute_result"
    }
   ],
   "source": [
    "# WRITE YOUR CODE HERE\n",
    "percent_pass_course = (result_arr.sum(axis=0)/len(result_arr)) * 100\n",
    "percent_pass_course"
   ]
  },
  {
   "cell_type": "markdown",
   "metadata": {
    "id": "4wJYXX3r2VYJ"
   },
   "source": [
    "### Question 3(d) - 3 marks\n",
    "\n",
    "Calculate the percentage of failure for each students.\n"
   ]
  },
  {
   "cell_type": "code",
   "execution_count": null,
   "metadata": {
    "id": "6BDlySQo2VYK",
    "outputId": "974db4dc-c367-4c14-b065-6da3f1d691c8"
   },
   "outputs": [
    {
     "data": {
      "text/plain": [
       "array([14.28571429, 42.85714286, 42.85714286, 42.85714286, 28.57142857,\n",
       "       28.57142857, 28.57142857, 14.28571429, 28.57142857,  0.        ])"
      ]
     },
     "execution_count": 97,
     "metadata": {},
     "output_type": "execute_result"
    }
   ],
   "source": [
    "# WRITE YOUR CODE HERE\n",
    "percent_fail_student = (1 - result_arr.sum(axis=1)/len(course_list)) * 100\n",
    "percent_fail_student"
   ]
  },
  {
   "cell_type": "markdown",
   "metadata": {
    "collapsed": true,
    "id": "nw_FkIkA2VYK",
    "jupyter": {
     "outputs_hidden": true
    }
   },
   "source": [
    "# END OF MID TERM TEST"
   ]
  },
  {
   "cell_type": "code",
   "execution_count": null,
   "metadata": {
    "id": "LtlpnKix2VYK"
   },
   "outputs": [],
   "source": []
  }
 ],
 "metadata": {
  "colab": {
   "provenance": []
  },
  "kernelspec": {
   "display_name": "Python 3 (ipykernel)",
   "language": "python",
   "name": "python3"
  },
  "language_info": {
   "codemirror_mode": {
    "name": "ipython",
    "version": 3
   },
   "file_extension": ".py",
   "mimetype": "text/x-python",
   "name": "python",
   "nbconvert_exporter": "python",
   "pygments_lexer": "ipython3",
   "version": "3.12.5"
  }
 },
 "nbformat": 4,
 "nbformat_minor": 4
}
