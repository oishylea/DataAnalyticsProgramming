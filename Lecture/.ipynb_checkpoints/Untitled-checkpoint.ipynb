{
 "cells": [
  {
   "cell_type": "code",
   "execution_count": 1,
   "id": "9108d53f-a2e9-4fc9-8734-435d7b70e8dc",
   "metadata": {},
   "outputs": [
    {
     "name": "stdout",
     "output_type": "stream",
     "text": [
      "Hello World\n"
     ]
    }
   ],
   "source": [
    "print(\"Hello World\")"
   ]
  },
  {
   "cell_type": "code",
   "execution_count": 2,
   "id": "fe743c95-1b09-4bc0-ad4a-54ef65ae60dc",
   "metadata": {},
   "outputs": [
    {
     "data": {
      "text/plain": [
       "'Hello World'"
      ]
     },
     "execution_count": 2,
     "metadata": {},
     "output_type": "execute_result"
    }
   ],
   "source": [
    "('Hello World')"
   ]
  },
  {
   "cell_type": "code",
   "execution_count": 3,
   "id": "0a5b8d4b-9a00-4024-9b7f-bbba049981c5",
   "metadata": {},
   "outputs": [
    {
     "data": {
      "text/plain": [
       "'hello world'"
      ]
     },
     "execution_count": 3,
     "metadata": {},
     "output_type": "execute_result"
    }
   ],
   "source": [
    "(\"hello world\")"
   ]
  },
  {
   "cell_type": "code",
   "execution_count": 4,
   "id": "a70506fe-583d-4406-ba33-9fd6b410b665",
   "metadata": {},
   "outputs": [
    {
     "name": "stdout",
     "output_type": "stream",
     "text": [
      " 'hi hhuih'\n"
     ]
    }
   ],
   "source": [
    "print (\" 'hi hhuih'\")"
   ]
  },
  {
   "cell_type": "code",
   "execution_count": 5,
   "id": "2657ab01-0599-4c33-bc7f-6c15b234dffe",
   "metadata": {},
   "outputs": [
    {
     "data": {
      "text/plain": [
       "\" 'hi hhuih'\""
      ]
     },
     "execution_count": 5,
     "metadata": {},
     "output_type": "execute_result"
    }
   ],
   "source": [
    "(\" 'hi hhuih'\")"
   ]
  },
  {
   "cell_type": "code",
   "execution_count": 6,
   "id": "aa0b5a6e-d447-45ed-90b0-acd26b4c0294",
   "metadata": {},
   "outputs": [
    {
     "data": {
      "text/plain": [
       "'\"hi hhuih\"'"
      ]
     },
     "execution_count": 6,
     "metadata": {},
     "output_type": "execute_result"
    }
   ],
   "source": [
    "('\"hi hhuih\"')"
   ]
  },
  {
   "cell_type": "code",
   "execution_count": 7,
   "id": "9625e211-fa83-4dbb-8c80-0a8690bab3a6",
   "metadata": {},
   "outputs": [
    {
     "name": "stdout",
     "output_type": "stream",
     "text": [
      "\"Hello World\"\n"
     ]
    }
   ],
   "source": [
    "print(\"\\\"Hello World\\\"\")"
   ]
  },
  {
   "cell_type": "code",
   "execution_count": 8,
   "id": "2a656c78-4777-433c-8409-ef2afb8573a1",
   "metadata": {},
   "outputs": [
    {
     "name": "stdout",
     "output_type": "stream",
     "text": [
      "9\n"
     ]
    }
   ],
   "source": [
    "print(6+3)"
   ]
  },
  {
   "cell_type": "code",
   "execution_count": 9,
   "id": "19e86fbd-2c67-4d03-9c15-29af427aaeae",
   "metadata": {},
   "outputs": [
    {
     "name": "stdout",
     "output_type": "stream",
     "text": [
      "133056\n"
     ]
    }
   ],
   "source": [
    "print(2376*56)"
   ]
  },
  {
   "cell_type": "code",
   "execution_count": 10,
   "id": "88eab8b9-a003-42de-906d-94e11c7868fb",
   "metadata": {},
   "outputs": [
    {
     "name": "stdout",
     "output_type": "stream",
     "text": [
      "2320\n"
     ]
    }
   ],
   "source": [
    "print(2376-56)"
   ]
  },
  {
   "cell_type": "code",
   "execution_count": 11,
   "id": "36378200-72b5-4a1f-98a4-6b3638ba8e9f",
   "metadata": {},
   "outputs": [
    {
     "name": "stdout",
     "output_type": "stream",
     "text": [
      "42.42857142857143\n"
     ]
    }
   ],
   "source": [
    "print(2376/56)"
   ]
  },
  {
   "cell_type": "code",
   "execution_count": 12,
   "id": "23124aee-3150-4c0c-bdd8-cbbc434d4a95",
   "metadata": {},
   "outputs": [
    {
     "name": "stdout",
     "output_type": "stream",
     "text": [
      "24\n"
     ]
    }
   ],
   "source": [
    "print(2376%56)"
   ]
  },
  {
   "cell_type": "code",
   "execution_count": 15,
   "id": "82376f3e-68cd-4b6e-92e7-de4e5e24f2dc",
   "metadata": {},
   "outputs": [
    {
     "name": "stdout",
     "output_type": "stream",
     "text": [
      "27\n"
     ]
    }
   ],
   "source": [
    "print(3**3)"
   ]
  },
  {
   "cell_type": "code",
   "execution_count": 17,
   "id": "8f938d0d-b264-48cf-b6e6-96dc90c58999",
   "metadata": {},
   "outputs": [
    {
     "data": {
      "text/plain": [
       "304"
      ]
     },
     "execution_count": 17,
     "metadata": {},
     "output_type": "execute_result"
    }
   ],
   "source": [
    "76*4"
   ]
  },
  {
   "cell_type": "code",
   "execution_count": 18,
   "id": "e7c5ff0b-d155-4639-b42b-68ea944d75d2",
   "metadata": {},
   "outputs": [
    {
     "data": {
      "text/plain": [
       "352"
      ]
     },
     "execution_count": 18,
     "metadata": {},
     "output_type": "execute_result"
    }
   ],
   "source": [
    "344+8"
   ]
  },
  {
   "cell_type": "code",
   "execution_count": 19,
   "id": "9ef9dc37-1e95-4bc1-b326-499ffc09cddf",
   "metadata": {},
   "outputs": [
    {
     "name": "stdout",
     "output_type": "stream",
     "text": [
      "<class 'int'>\n"
     ]
    }
   ],
   "source": [
    "print(type(10))\n"
   ]
  },
  {
   "cell_type": "code",
   "execution_count": 20,
   "id": "4a35e69e-bd32-4cdb-b188-15d38ab8caa0",
   "metadata": {},
   "outputs": [
    {
     "name": "stdout",
     "output_type": "stream",
     "text": [
      "<class 'float'>\n"
     ]
    }
   ],
   "source": [
    "print(type(1.220))\n"
   ]
  },
  {
   "cell_type": "code",
   "execution_count": 22,
   "id": "b8e6d564-de15-48ea-a7f5-70665680d4a3",
   "metadata": {},
   "outputs": [
    {
     "name": "stdout",
     "output_type": "stream",
     "text": [
      "3.3333333333333335\n"
     ]
    }
   ],
   "source": [
    "print(float(10)/3)\n"
   ]
  },
  {
   "cell_type": "code",
   "execution_count": 23,
   "id": "9be200d3-a526-4b44-8fde-c4a6d6bbbdee",
   "metadata": {},
   "outputs": [
    {
     "name": "stdout",
     "output_type": "stream",
     "text": [
      "Find x in 5x = 3x + 8\n"
     ]
    },
    {
     "data": {
      "text/plain": [
       "4.0"
      ]
     },
     "execution_count": 23,
     "metadata": {},
     "output_type": "execute_result"
    }
   ],
   "source": [
    "print(\"Find x in 5x = 3x + 8\")\n",
    "8/(5-3)"
   ]
  },
  {
   "cell_type": "code",
   "execution_count": 24,
   "id": "b9817b3e-a556-467e-b0db-bbdf1628731a",
   "metadata": {},
   "outputs": [
    {
     "data": {
      "text/plain": [
       "4.0"
      ]
     },
     "execution_count": 24,
     "metadata": {},
     "output_type": "execute_result"
    }
   ],
   "source": [
    "guess=12\n",
    "guess=12/3\n",
    "guess"
   ]
  },
  {
   "cell_type": "code",
   "execution_count": 26,
   "id": "42e2e4b8-179c-447d-8f62-211609d9e112",
   "metadata": {},
   "outputs": [],
   "source": [
    "name=\"Izzah\""
   ]
  },
  {
   "cell_type": "code",
   "execution_count": 28,
   "id": "1f5904dd-86e9-4bb8-abcc-c598e0f0b065",
   "metadata": {},
   "outputs": [
    {
     "name": "stdout",
     "output_type": "stream",
     "text": [
      "hi, my name isIzzah\n"
     ]
    }
   ],
   "source": [
    "print(\"hi, my name is\" + name)"
   ]
  },
  {
   "cell_type": "code",
   "execution_count": 32,
   "id": "4928e517-e6c3-4932-aa84-cebbfdbde2b6",
   "metadata": {},
   "outputs": [
    {
     "name": "stdout",
     "output_type": "stream",
     "text": [
      "10kg\n"
     ]
    }
   ],
   "source": [
    "c=10\n",
    "print(str(c)+\"kg\")"
   ]
  },
  {
   "cell_type": "code",
   "execution_count": 33,
   "id": "689e98ac-b068-4f93-bcad-2f8b75ea0472",
   "metadata": {},
   "outputs": [],
   "source": [
    "h='hello'"
   ]
  },
  {
   "cell_type": "code",
   "execution_count": 34,
   "id": "6ad8a3f5-917a-41e8-9863-2eafdc909c82",
   "metadata": {},
   "outputs": [
    {
     "name": "stdout",
     "output_type": "stream",
     "text": [
      "ell\n"
     ]
    }
   ],
   "source": [
    "print(h[1:4])"
   ]
  },
  {
   "cell_type": "code",
   "execution_count": 35,
   "id": "35bd94e7-492c-458f-bbb0-63d9e583e34b",
   "metadata": {},
   "outputs": [
    {
     "name": "stdout",
     "output_type": "stream",
     "text": [
      "ello\n"
     ]
    }
   ],
   "source": [
    "print(h[1:])"
   ]
  },
  {
   "cell_type": "code",
   "execution_count": 36,
   "id": "74d025ab-ba54-4e59-9226-847bdd4dfe53",
   "metadata": {},
   "outputs": [
    {
     "name": "stdout",
     "output_type": "stream",
     "text": [
      "ello\n"
     ]
    }
   ],
   "source": [
    "print(h[1:])"
   ]
  },
  {
   "cell_type": "code",
   "execution_count": 38,
   "id": "d8f4f455-c8d0-44e3-92f8-d3e2170754bd",
   "metadata": {},
   "outputs": [
    {
     "name": "stdout",
     "output_type": "stream",
     "text": [
      "e\n"
     ]
    }
   ],
   "source": [
    "print(h[1:2:4])"
   ]
  },
  {
   "cell_type": "code",
   "execution_count": 43,
   "id": "bfab7bab-0a14-41da-a5bb-e05d5647b064",
   "metadata": {},
   "outputs": [
    {
     "name": "stdout",
     "output_type": "stream",
     "text": [
      "l\n",
      "ul\n",
      "u\n",
      "lau\n"
     ]
    }
   ],
   "source": [
    "i=1\n",
    "j=5\n",
    "k=2\n",
    "m=100\n",
    "z='aliatul'\n",
    "\n",
    "print(z[i])\n",
    "print(z[5:])\n",
    "print(z[5])\n",
    "print(z[i:m:k])"
   ]
  },
  {
   "cell_type": "code",
   "execution_count": 44,
   "id": "eb0b5576-e57a-48dc-8867-cb8873be5882",
   "metadata": {},
   "outputs": [],
   "source": [
    "a= 'haziq string here'"
   ]
  },
  {
   "cell_type": "code",
   "execution_count": 47,
   "id": "d039be65-11ad-43aa-8e77-6a1fee95deda",
   "metadata": {},
   "outputs": [
    {
     "name": "stdout",
     "output_type": "stream",
     "text": [
      "l l\n"
     ]
    }
   ],
   "source": [
    "s='hello'\n",
    "print(s[3],s[1+1+1])"
   ]
  },
  {
   "cell_type": "code",
   "execution_count": 48,
   "id": "cebac012-73f6-4abd-9dd5-93c873007948",
   "metadata": {},
   "outputs": [
    {
     "name": "stdout",
     "output_type": "stream",
     "text": [
      "h h\n"
     ]
    }
   ],
   "source": [
    "print(s[0],(s+s)[0])"
   ]
  },
  {
   "cell_type": "code",
   "execution_count": 51,
   "id": "85b7cb7d-b3ea-47c9-8d53-f27bc9f31277",
   "metadata": {},
   "outputs": [
    {
     "name": "stdout",
     "output_type": "stream",
     "text": [
      "he\n"
     ]
    }
   ],
   "source": [
    "print(s[0]+s[1])"
   ]
  },
  {
   "cell_type": "code",
   "execution_count": 53,
   "id": "8231073b-4a46-402b-a56e-bf6c8317f699",
   "metadata": {},
   "outputs": [
    {
     "name": "stdout",
     "output_type": "stream",
     "text": [
      "e d\n"
     ]
    }
   ],
   "source": [
    "print(s[1], (s+ 'ed')[6])\n"
   ]
  },
  {
   "cell_type": "code",
   "execution_count": 54,
   "id": "b47eaa32-72e5-4e31-8320-3d56d79bf161",
   "metadata": {},
   "outputs": [
    {
     "name": "stdout",
     "output_type": "stream",
     "text": [
      "o o\n"
     ]
    }
   ],
   "source": [
    "print(s[-1], (s+s)[-1])\n",
    "\n"
   ]
  },
  {
   "cell_type": "code",
   "execution_count": 55,
   "id": "20b45f83-f656-4aac-861d-4d1e1b3c6473",
   "metadata": {},
   "outputs": [
    {
     "data": {
      "text/plain": [
       "0"
      ]
     },
     "execution_count": 55,
     "metadata": {},
     "output_type": "execute_result"
    }
   ],
   "source": [
    "\"test\".find(\"t\")\n",
    "\n"
   ]
  },
  {
   "cell_type": "code",
   "execution_count": 56,
   "id": "a7997576-62a6-454e-ab3c-902115f9b04c",
   "metadata": {},
   "outputs": [
    {
     "data": {
      "text/plain": [
       "2"
      ]
     },
     "execution_count": 56,
     "metadata": {},
     "output_type": "execute_result"
    }
   ],
   "source": [
    "\"test\".find(\"st\")\n",
    "\n"
   ]
  },
  {
   "cell_type": "code",
   "execution_count": 58,
   "id": "894afa9f-48db-4c41-9fd4-39acf5c7a7f0",
   "metadata": {},
   "outputs": [
    {
     "data": {
      "text/plain": [
       "-1"
      ]
     },
     "execution_count": 58,
     "metadata": {},
     "output_type": "execute_result"
    }
   ],
   "source": [
    "\"Test\".find(\"te\")\n"
   ]
  },
  {
   "cell_type": "code",
   "execution_count": 61,
   "id": "ce8f1b8a-c84d-4fac-8e71-f7d8bbf2ccf3",
   "metadata": {},
   "outputs": [
    {
     "data": {
      "text/plain": [
       "-1"
      ]
     },
     "execution_count": 61,
     "metadata": {},
     "output_type": "execute_result"
    }
   ],
   "source": [
    "\"test\".find(\"we\")\n"
   ]
  },
  {
   "cell_type": "code",
   "execution_count": 62,
   "id": "1298acb1-671c-4c5a-a9b2-162dd04ea6eb",
   "metadata": {},
   "outputs": [],
   "source": [
    "t=4,1"
   ]
  },
  {
   "cell_type": "code",
   "execution_count": 63,
   "id": "436fa21e-9974-4fc5-a746-0fb590475bea",
   "metadata": {},
   "outputs": [
    {
     "name": "stdout",
     "output_type": "stream",
     "text": [
      "(4, 1)\n"
     ]
    }
   ],
   "source": [
    "print(t)"
   ]
  },
  {
   "cell_type": "code",
   "execution_count": 64,
   "id": "67ee06bb-6146-4588-b615-078679287207",
   "metadata": {},
   "outputs": [
    {
     "data": {
      "text/plain": [
       "tuple"
      ]
     },
     "execution_count": 64,
     "metadata": {},
     "output_type": "execute_result"
    }
   ],
   "source": [
    "type(t)"
   ]
  },
  {
   "cell_type": "code",
   "execution_count": 65,
   "id": "40f221b4-3e42-48d2-83f2-ee8978a61f4c",
   "metadata": {},
   "outputs": [],
   "source": [
    "tup = 4,5,6"
   ]
  },
  {
   "cell_type": "code",
   "execution_count": 66,
   "id": "095773e2-2361-49e0-a1f8-458fe2a4a70b",
   "metadata": {},
   "outputs": [
    {
     "data": {
      "text/plain": [
       "(4, 5, 6)"
      ]
     },
     "execution_count": 66,
     "metadata": {},
     "output_type": "execute_result"
    }
   ],
   "source": [
    "tup"
   ]
  },
  {
   "cell_type": "code",
   "execution_count": 68,
   "id": "f8a1002a-32ec-4747-bae5-0c6da52aa270",
   "metadata": {},
   "outputs": [
    {
     "name": "stdout",
     "output_type": "stream",
     "text": [
      "1\n",
      "2\n"
     ]
    }
   ],
   "source": [
    "a,b,c = 1,2,3\n",
    "\n",
    "print(a)\n",
    "print(b)"
   ]
  },
  {
   "cell_type": "code",
   "execution_count": 69,
   "id": "1c411859-9135-4c4d-8606-9213e24fe843",
   "metadata": {},
   "outputs": [],
   "source": [
    "t,e,st =1,2,3"
   ]
  },
  {
   "cell_type": "code",
   "execution_count": 71,
   "id": "b8895f9d-6a92-4873-9cf3-edfe4a84b8df",
   "metadata": {},
   "outputs": [
    {
     "name": "stdout",
     "output_type": "stream",
     "text": [
      "1\n"
     ]
    }
   ],
   "source": [
    "print(t)"
   ]
  },
  {
   "cell_type": "code",
   "execution_count": 73,
   "id": "dc7b5271-13a7-4514-ab4f-f39a85a79de9",
   "metadata": {},
   "outputs": [
    {
     "name": "stdout",
     "output_type": "stream",
     "text": [
      "('p', 'y', 't', 'h', 'o', 'n')\n"
     ]
    }
   ],
   "source": [
    "tup1 = tuple('python')\n",
    "print(tup1)"
   ]
  },
  {
   "cell_type": "code",
   "execution_count": 74,
   "id": "c71f818d-44d2-44f3-8865-1799aa4b0387",
   "metadata": {},
   "outputs": [
    {
     "name": "stdout",
     "output_type": "stream",
     "text": [
      "('amin', [1, 2], True)\n"
     ]
    }
   ],
   "source": [
    "tup = tuple(['amin',[1,2],True])\n",
    "print(tup)"
   ]
  },
  {
   "cell_type": "code",
   "execution_count": 75,
   "id": "649779a1-1fc5-4d25-a0d1-81bb8c026e2c",
   "metadata": {},
   "outputs": [],
   "source": [
    "tup[1].append(4)"
   ]
  },
  {
   "cell_type": "code",
   "execution_count": 76,
   "id": "862ee448-7b5d-4537-b8b5-c5e02c28ab65",
   "metadata": {},
   "outputs": [
    {
     "data": {
      "text/plain": [
       "('amin', [1, 2, 4], True)"
      ]
     },
     "execution_count": 76,
     "metadata": {},
     "output_type": "execute_result"
    }
   ],
   "source": [
    "tup"
   ]
  },
  {
   "cell_type": "code",
   "execution_count": 77,
   "id": "4070c25b-bdcb-4bd5-af2f-861fe264db95",
   "metadata": {},
   "outputs": [],
   "source": [
    "add_tup = tup + tup1\n"
   ]
  },
  {
   "cell_type": "code",
   "execution_count": 78,
   "id": "0b3e5ab9-8bcf-4455-88be-a17c40bc2299",
   "metadata": {},
   "outputs": [
    {
     "name": "stdout",
     "output_type": "stream",
     "text": [
      "('amin', [1, 2, 4], True, 'p', 'y', 't', 'h', 'o', 'n')\n"
     ]
    }
   ],
   "source": [
    "print(add_tup)"
   ]
  },
  {
   "cell_type": "code",
   "execution_count": 82,
   "id": "48d4abb2-e54b-4acc-989f-314ae4d2da74",
   "metadata": {},
   "outputs": [
    {
     "data": {
      "text/plain": [
       "(4, None, 'haziq', 4, 0, 'hi', 10)"
      ]
     },
     "execution_count": 82,
     "metadata": {},
     "output_type": "execute_result"
    }
   ],
   "source": [
    "(4, None, 'haziq',)+(4,0)+('hi',)+(10,)"
   ]
  },
  {
   "cell_type": "code",
   "execution_count": 83,
   "id": "2217c0d7-1791-463d-a8af-435e4f7809e8",
   "metadata": {},
   "outputs": [
    {
     "data": {
      "text/plain": [
       "('amin', 'ila', 'amin', 'ila', 'amin', 'ila')"
      ]
     },
     "execution_count": 83,
     "metadata": {},
     "output_type": "execute_result"
    }
   ],
   "source": [
    "('amin', 'ila')*3\n"
   ]
  },
  {
   "cell_type": "code",
   "execution_count": 3,
   "id": "616c320c-a904-4200-87bc-024cbaeb670b",
   "metadata": {},
   "outputs": [
    {
     "name": "stdout",
     "output_type": "stream",
     "text": [
      "<enumerate object at 0x000002206DD868E0>\n"
     ]
    },
    {
     "data": {
      "text/plain": [
       "[(1, 'test'), (2, 'hi'), (3, 'eat')]"
      ]
     },
     "execution_count": 3,
     "metadata": {},
     "output_type": "execute_result"
    }
   ],
   "source": [
    "choices = ['test','hi','eat']\n",
    "print(enumerate(choices,1))\n",
    "list(enumerate(choices,1))"
   ]
  },
  {
   "cell_type": "code",
   "execution_count": 4,
   "id": "54f196e5-b216-4639-bbdd-465c2737482c",
   "metadata": {},
   "outputs": [
    {
     "data": {
      "text/plain": [
       "((1, 'test'), (2, 'hi'), (3, 'eat'))"
      ]
     },
     "execution_count": 4,
     "metadata": {},
     "output_type": "execute_result"
    }
   ],
   "source": [
    "tuple(enumerate(choices,1))"
   ]
  },
  {
   "cell_type": "code",
   "execution_count": 5,
   "id": "82f9e86d-ce79-42ba-9619-68dfcf47470e",
   "metadata": {},
   "outputs": [
    {
     "data": {
      "text/plain": [
       "{1: 'test', 2: 'hi', 3: 'eat'}"
      ]
     },
     "execution_count": 5,
     "metadata": {},
     "output_type": "execute_result"
    }
   ],
   "source": [
    "dict(enumerate(choices,1))"
   ]
  },
  {
   "cell_type": "code",
   "execution_count": 9,
   "id": "1fd524be-0da2-4e27-94a5-55f19eb0dfdf",
   "metadata": {},
   "outputs": [
    {
     "data": {
      "text/plain": [
       "[2, 3, 4, 5, 6, 7]"
      ]
     },
     "execution_count": 9,
     "metadata": {},
     "output_type": "execute_result"
    }
   ],
   "source": [
    "b=[3,6,2,5,7,4]\n",
    "b.sort()\n",
    "b"
   ]
  },
  {
   "cell_type": "code",
   "execution_count": 11,
   "id": "5f741ac6-6534-4ba0-931a-91a98a8a38d8",
   "metadata": {},
   "outputs": [
    {
     "data": {
      "text/plain": [
       "[2, 2, 3, 4, 6, 67]"
      ]
     },
     "execution_count": 11,
     "metadata": {},
     "output_type": "execute_result"
    }
   ],
   "source": [
    "c=[3,6,2,67,2,4]\n",
    "sorted(c)"
   ]
  },
  {
   "cell_type": "code",
   "execution_count": 13,
   "id": "09b0b4a3-e7fc-4024-8be5-705098e9330b",
   "metadata": {},
   "outputs": [
    {
     "data": {
      "text/plain": [
       "['alia', 'amal', 'aufa', 'ayaz', 'hi']"
      ]
     },
     "execution_count": 13,
     "metadata": {},
     "output_type": "execute_result"
    }
   ],
   "source": [
    "d=['hi','alia','aufa','ayaz','amal']\n",
    "sorted(d)"
   ]
  },
  {
   "cell_type": "code",
   "execution_count": 17,
   "id": "51a0784b-625d-419d-a4f2-dfb8bd134617",
   "metadata": {},
   "outputs": [
    {
     "name": "stdout",
     "output_type": "stream",
     "text": [
      "['SCSI 1103', 'SCSJ 1013', 'SCSJ 3213', 'SCSR 2103', 'SCSV 4312']\n"
     ]
    }
   ],
   "source": [
    "courses = ['SCSJ 3213', 'SCSI 1103', 'SCSR 2103', 'SCSV 4312', 'SCSJ 1013']\n",
    "\n",
    "courses.sort()\n",
    "print(courses)"
   ]
  },
  {
   "cell_type": "code",
   "execution_count": 23,
   "id": "5f7bb14d-c538-4876-8d22-24aee94ad068",
   "metadata": {},
   "outputs": [
    {
     "name": "stdout",
     "output_type": "stream",
     "text": [
      "Position to inset 3\n"
     ]
    }
   ],
   "source": [
    "import bisect\n",
    "position= bisect.bisect(courses,'SCSP 3223')\n",
    "print(\"Position to inset\" , position)\n"
   ]
  },
  {
   "cell_type": "code",
   "execution_count": 26,
   "id": "5c21f8b2-a2db-4d28-a910-0f28447a0b5b",
   "metadata": {},
   "outputs": [
    {
     "name": "stdout",
     "output_type": "stream",
     "text": [
      "['SCSI 1103', 'SCSJ 1013', 'SCSJ 3213', 'SCSP 3223', 'SCSR 2103', 'SCSV 4312']\n"
     ]
    }
   ],
   "source": [
    "bisect.insort(courses,'SCSP 3223')\n",
    "print(courses)"
   ]
  },
  {
   "cell_type": "code",
   "execution_count": 29,
   "id": "d436fc30-be3f-40e2-b1d4-64f13a5689bf",
   "metadata": {},
   "outputs": [
    {
     "name": "stdout",
     "output_type": "stream",
     "text": [
      "<zip object at 0x000002206E3D5B00>\n",
      "\n"
     ]
    }
   ],
   "source": [
    "seq1=['foo','baz','bar']\n",
    "seq2=['one','two','three']\n",
    "\n",
    "newSeq = zip(seq1,seq2)\n",
    "print(newSeq)\n"
   ]
  },
  {
   "cell_type": "code",
   "execution_count": null,
   "id": "028fc7e9-1264-4ead-b392-881ee0e397a9",
   "metadata": {},
   "outputs": [],
   "source": []
  }
 ],
 "metadata": {
  "kernelspec": {
   "display_name": "Python 3 (ipykernel)",
   "language": "python",
   "name": "python3"
  },
  "language_info": {
   "codemirror_mode": {
    "name": "ipython",
    "version": 3
   },
   "file_extension": ".py",
   "mimetype": "text/x-python",
   "name": "python",
   "nbconvert_exporter": "python",
   "pygments_lexer": "ipython3",
   "version": "3.12.5"
  }
 },
 "nbformat": 4,
 "nbformat_minor": 5
}
